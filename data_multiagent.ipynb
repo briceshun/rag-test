{
 "cells": [
  {
   "cell_type": "code",
   "execution_count": 1,
   "metadata": {},
   "outputs": [],
   "source": [
    "%%capture --no-stderr\n",
    "%pip install --upgrade --quiet -r requirements.txt"
   ]
  },
  {
   "cell_type": "code",
   "execution_count": 1,
   "metadata": {},
   "outputs": [
    {
     "data": {
      "application/vnd.jupyter.widget-view+json": {
       "model_id": "4f153e79ac3640a3b1d3e69984769b08",
       "version_major": 2,
       "version_minor": 0
      },
      "text/plain": [
       "Loading checkpoint shards:   0%|          | 0/3 [00:00<?, ?it/s]"
      ]
     },
     "metadata": {},
     "output_type": "display_data"
    }
   ],
   "source": [
    "import json\n",
    "# from llama_index.llms.huggingface import HuggingFaceLLM\n",
    "# from llama_index.core.tools import QueryEngineTool, ToolMetadata\n",
    "# from llama_index.core.agent import ReActAgent\n",
    "\n",
    "# Load model\n",
    "from agents import load_model\n",
    "model, pipe = load_model('agents/Llama-3_2-3B-Instruct')\n",
    "\n",
    "# Load retriever\n",
    "from agents import llamaindex_retriever\n",
    "\n",
    "# Load prompts\n",
    "from agents import prompts\n",
    "system_prompt = prompts.metadata_prompt\n",
    "sql_prompt = prompts.sql_prompt\n",
    "checker_prompt = prompts.checker_prompt"
   ]
  },
  {
   "cell_type": "markdown",
   "metadata": {},
   "source": [
    "## Create database replica"
   ]
  },
  {
   "cell_type": "code",
   "execution_count": 2,
   "metadata": {},
   "outputs": [],
   "source": [
    "from langchain_community.utilities import SQLDatabase\n",
    "\n",
    "db = SQLDatabase.from_uri(\"sqlite:///Chinook.db\")"
   ]
  },
  {
   "cell_type": "markdown",
   "metadata": {},
   "source": [
    "## Create metadata"
   ]
  },
  {
   "cell_type": "markdown",
   "metadata": {},
   "source": [
    "### Samples and Info Schemas"
   ]
  },
  {
   "cell_type": "code",
   "execution_count": 3,
   "metadata": {},
   "outputs": [],
   "source": [
    "# List tables\n",
    "l_tables = db.get_usable_table_names()\n",
    "\n",
    "# Create metadata\n",
    "d_metadata = {}\n",
    "for table in l_tables:\n",
    "    # Sample 10 rows from each table\n",
    "    sample = db.run(f\"SELECT * FROM {table} LIMIT 5;\", fetch=\"cursor\")\n",
    "    # Get table schema\n",
    "    infoschema = db.run(f\"SELECT sql FROM sqlite_master WHERE type='table' AND name='{table}';\", fetch=\"cursor\")\n",
    "    # Store metadata\n",
    "    d_metadata[table] = {\n",
    "        \"sample\": list(sample.mappings()),\n",
    "        \"infoschema\": list(infoschema.mappings())[0]['sql'],\n",
    "    }"
   ]
  },
  {
   "cell_type": "markdown",
   "metadata": {},
   "source": [
    "### GenAI Metadata"
   ]
  },
  {
   "cell_type": "code",
   "execution_count": 7,
   "metadata": {},
   "outputs": [
    {
     "name": "stderr",
     "output_type": "stream",
     "text": [
      "Setting `pad_token_id` to `eos_token_id`:None for open-end generation.\n"
     ]
    },
    {
     "name": "stdout",
     "output_type": "stream",
     "text": [
      "Processing table: Album\n"
     ]
    },
    {
     "name": "stderr",
     "output_type": "stream",
     "text": [
      "Starting from v4.46, the `logits` model output will have the same type as the model (except at train time, where it will always be FP32)\n",
      "Setting `pad_token_id` to `eos_token_id`:None for open-end generation.\n",
      "Setting `pad_token_id` to `eos_token_id`:None for open-end generation.\n"
     ]
    },
    {
     "name": "stdout",
     "output_type": "stream",
     "text": [
      "Processing table: Artist\n"
     ]
    },
    {
     "name": "stderr",
     "output_type": "stream",
     "text": [
      "Setting `pad_token_id` to `eos_token_id`:None for open-end generation.\n",
      "Setting `pad_token_id` to `eos_token_id`:None for open-end generation.\n"
     ]
    },
    {
     "name": "stdout",
     "output_type": "stream",
     "text": [
      "Processing table: Customer\n"
     ]
    },
    {
     "name": "stderr",
     "output_type": "stream",
     "text": [
      "Setting `pad_token_id` to `eos_token_id`:None for open-end generation.\n",
      "Setting `pad_token_id` to `eos_token_id`:None for open-end generation.\n"
     ]
    },
    {
     "name": "stdout",
     "output_type": "stream",
     "text": [
      "Processing table: Employee\n"
     ]
    },
    {
     "name": "stderr",
     "output_type": "stream",
     "text": [
      "Setting `pad_token_id` to `eos_token_id`:None for open-end generation.\n",
      "Setting `pad_token_id` to `eos_token_id`:None for open-end generation.\n"
     ]
    },
    {
     "name": "stdout",
     "output_type": "stream",
     "text": [
      "Processing table: Genre\n"
     ]
    },
    {
     "name": "stderr",
     "output_type": "stream",
     "text": [
      "Setting `pad_token_id` to `eos_token_id`:None for open-end generation.\n",
      "Setting `pad_token_id` to `eos_token_id`:None for open-end generation.\n"
     ]
    },
    {
     "name": "stdout",
     "output_type": "stream",
     "text": [
      "Processing table: Invoice\n"
     ]
    },
    {
     "name": "stderr",
     "output_type": "stream",
     "text": [
      "Setting `pad_token_id` to `eos_token_id`:None for open-end generation.\n",
      "Setting `pad_token_id` to `eos_token_id`:None for open-end generation.\n"
     ]
    },
    {
     "name": "stdout",
     "output_type": "stream",
     "text": [
      "Processing table: InvoiceLine\n"
     ]
    },
    {
     "name": "stderr",
     "output_type": "stream",
     "text": [
      "Setting `pad_token_id` to `eos_token_id`:None for open-end generation.\n",
      "Setting `pad_token_id` to `eos_token_id`:None for open-end generation.\n"
     ]
    },
    {
     "name": "stdout",
     "output_type": "stream",
     "text": [
      "Processing table: MediaType\n"
     ]
    },
    {
     "name": "stderr",
     "output_type": "stream",
     "text": [
      "Setting `pad_token_id` to `eos_token_id`:None for open-end generation.\n",
      "Setting `pad_token_id` to `eos_token_id`:None for open-end generation.\n"
     ]
    },
    {
     "name": "stdout",
     "output_type": "stream",
     "text": [
      "Processing table: Playlist\n"
     ]
    },
    {
     "name": "stderr",
     "output_type": "stream",
     "text": [
      "Setting `pad_token_id` to `eos_token_id`:None for open-end generation.\n",
      "Setting `pad_token_id` to `eos_token_id`:None for open-end generation.\n"
     ]
    },
    {
     "name": "stdout",
     "output_type": "stream",
     "text": [
      "Error processing table Playlist: Expecting ',' delimiter: line 3 column 207 (char 513)\n",
      "Retrying... (1/3)\n"
     ]
    },
    {
     "name": "stderr",
     "output_type": "stream",
     "text": [
      "Setting `pad_token_id` to `eos_token_id`:None for open-end generation.\n"
     ]
    },
    {
     "name": "stdout",
     "output_type": "stream",
     "text": [
      "Processing table: PlaylistTrack\n"
     ]
    },
    {
     "name": "stderr",
     "output_type": "stream",
     "text": [
      "Setting `pad_token_id` to `eos_token_id`:None for open-end generation.\n",
      "Setting `pad_token_id` to `eos_token_id`:None for open-end generation.\n"
     ]
    },
    {
     "name": "stdout",
     "output_type": "stream",
     "text": [
      "Processing table: Track\n"
     ]
    },
    {
     "name": "stderr",
     "output_type": "stream",
     "text": [
      "Setting `pad_token_id` to `eos_token_id`:None for open-end generation.\n"
     ]
    }
   ],
   "source": [
    "for table in l_tables:\n",
    "    print(f\"Processing table: {table}\")\n",
    "    # Generate response\n",
    "    messages = [\n",
    "        {\"role\": \"system\", \"content\": system_prompt},\n",
    "        {\"role\": \"user\", \"content\": f\"{d_metadata[table]}\"},\n",
    "    ]\n",
    "    response = pipe(messages)\n",
    "\n",
    "    # Clean response\n",
    "    max_retries = 3\n",
    "    for attempt in range(max_retries):\n",
    "        try:\n",
    "            response = pipe(messages)\n",
    "            json_string = response[0]['generated_text'][2]['content'].replace(\"'\", '\"')\n",
    "            data_dict = json.loads(json_string)\n",
    "            break  # Exit loop if successful\n",
    "        except Exception as e:\n",
    "            print(f\"Error processing table {table}: {e}\")\n",
    "            if attempt == max_retries - 1:\n",
    "                raise  # Re-raise the exception if max retries reached\n",
    "            print(f\"Retrying... ({attempt + 1}/{max_retries})\")\n",
    "\n",
    "    # Store metadata\n",
    "    d_metadata[table]['description'] = data_dict['description']\n",
    "    d_metadata[table]['use case'] = data_dict['use case']"
   ]
  },
  {
   "cell_type": "code",
   "execution_count": null,
   "metadata": {},
   "outputs": [],
   "source": [
    "# Convert RowMapping to Dict\n",
    "for table in l_tables:\n",
    "    d_metadata[table]['sample'] = [dict(row) for row in d_metadata[table]['sample']]\n",
    "\n",
    "# Save dictionary to a JSON file\n",
    "with open('data/metadata.json', 'w') as json_file:\n",
    "    json.dump(d_metadata, json_file, indent=4)"
   ]
  },
  {
   "cell_type": "code",
   "execution_count": 26,
   "metadata": {},
   "outputs": [],
   "source": [
    "with open('data/metadata.json', 'r') as json_file:\n",
    "    d_metadata = json.load(json_file)"
   ]
  },
  {
   "cell_type": "code",
   "execution_count": 28,
   "metadata": {},
   "outputs": [],
   "source": [
    "# Create text files\n",
    "for table in l_tables:\n",
    "    with open(f'data/metadata/{table}.txt', 'w') as txt_file:\n",
    "        txt_file.write(f\"\\n\\nTable: {table}\\n\\n\")\n",
    "        txt_file.write(f\"Description: \\n{d_metadata[table]['description']}\\n\\n\")\n",
    "        txt_file.write(f\"Use Case: \\n{d_metadata[table]['use case']}\\n\\n\")\n",
    "        txt_file.write(f\"Schema: \\n{d_metadata[table]['infoschema']}\\n\\n\")\n",
    "        txt_file.write(f\"Sample:\\n\")\n",
    "        for row in d_metadata[table]['sample']:\n",
    "            txt_file.write(f\"{row}\\n\")"
   ]
  },
  {
   "cell_type": "markdown",
   "metadata": {},
   "source": [
    "## Create RAG"
   ]
  },
  {
   "cell_type": "code",
   "execution_count": 4,
   "metadata": {},
   "outputs": [],
   "source": [
    "db_engine = llamaindex_retriever(\n",
    "    [f'data/metadata/{table}.txt' for table in l_tables]\n",
    "    )"
   ]
  },
  {
   "cell_type": "code",
   "execution_count": null,
   "metadata": {},
   "outputs": [
    {
     "name": "stderr",
     "output_type": "stream",
     "text": [
      "Setting `pad_token_id` to `eos_token_id`:None for open-end generation.\n"
     ]
    },
    {
     "name": "stdout",
     "output_type": "stream",
     "text": [
      "SELECT T1.Title, COUNT(T2.TrackId) AS NumTracks \n",
      "FROM Album AS T1 \n",
      "JOIN Track AS T2 ON T1.AlbumId = T2.AlbumId \n",
      "GROUP BY T1.Title \n",
      "ORDER BY NumTracks DESC LIMIT 1\n"
     ]
    }
   ],
   "source": [
    "prompt = \"Which album has the most tracks?\"\n",
    "tables = db_engine.retrieve(prompt)\n",
    "messages = [\n",
    "        {\"role\": \"system\", \"content\": sql_prompt},\n",
    "        {\"role\": \"sqlagent\", \"content\": '\\n'.join([t.text for t in tables])},\n",
    "        {\"role\": \"user\", \"content\": prompt},\n",
    "    ]\n",
    "response = pipe(messages)\n",
    "query = response[0]['generated_text'][3]['content'].replace('```sql', '').replace('```', '').strip()\n",
    "print(query)"
   ]
  },
  {
   "cell_type": "code",
   "execution_count": 13,
   "metadata": {},
   "outputs": [
    {
     "data": {
      "text/plain": [
       "\"[('Greatest Hits', 57)]\""
      ]
     },
     "execution_count": 13,
     "metadata": {},
     "output_type": "execute_result"
    }
   ],
   "source": [
    "db.run(fr\"\"\"{query}\"\"\")"
   ]
  },
  {
   "cell_type": "code",
   "execution_count": 14,
   "metadata": {},
   "outputs": [
    {
     "name": "stderr",
     "output_type": "stream",
     "text": [
      "Setting `pad_token_id` to `eos_token_id`:None for open-end generation.\n"
     ]
    },
    {
     "name": "stdout",
     "output_type": "stream",
     "text": [
      "SELECT SUM(T2.Total) FROM Customer AS T1 INNER JOIN Invoice AS T2 ON T1.CustomerId = T2.CustomerId WHERE T1.Country = 'Brazil'\n"
     ]
    }
   ],
   "source": [
    "prompt = \"What were the total sales from customers in Brazil?\"\n",
    "tables = db_engine.retrieve(prompt)\n",
    "messages = [\n",
    "        {\"role\": \"system\", \"content\": sql_prompt},\n",
    "        {\"role\": \"sqlagent\", \"content\": '\\n'.join([t.text for t in tables])},\n",
    "        {\"role\": \"user\", \"content\": prompt},\n",
    "    ]\n",
    "response = pipe(messages)\n",
    "query = response[0]['generated_text'][3]['content'].replace('```sql', '').replace('```', '').strip()\n",
    "print(query)"
   ]
  },
  {
   "cell_type": "code",
   "execution_count": 16,
   "metadata": {},
   "outputs": [
    {
     "data": {
      "text/plain": [
       "'[(190.1,)]'"
      ]
     },
     "execution_count": 16,
     "metadata": {},
     "output_type": "execute_result"
    }
   ],
   "source": [
    "db.run(fr\"\"\"{query}\"\"\")"
   ]
  },
  {
   "cell_type": "code",
   "execution_count": null,
   "metadata": {},
   "outputs": [
    {
     "name": "stderr",
     "output_type": "stream",
     "text": [
      "Setting `pad_token_id` to `eos_token_id`:None for open-end generation.\n"
     ]
    },
    {
     "name": "stdout",
     "output_type": "stream",
     "text": [
      "SELECT T1.Name, SUM(T2.Total) AS TotalSales \n",
      "FROM Track AS T1 \n",
      "INNER JOIN InvoiceLine AS T3 ON T1.TrackId = T3.TrackId \n",
      "INNER JOIN Invoice AS T2 ON T3.InvoiceId = T2.InvoiceId \n",
      "INNER JOIN Customer AS T4 ON T2.CustomerId = T4.CustomerId \n",
      "WHERE T4.Country = 'Brazil' \n",
      "GROUP BY T1.Name \n",
      "ORDER BY TotalSales DESC \n",
      "LIMIT 10\n"
     ]
    }
   ],
   "source": [
    "prompt = \"What were the top 10 total sales in $ by track from customers in Brazil?\"\n",
    "tables = db_engine.retrieve(prompt)\n",
    "messages = [\n",
    "        {\"role\": \"system\", \"content\": sql_prompt},\n",
    "        {\"role\": \"sqlagent\", \"content\": '\\n'.join([t.text for t in tables])},\n",
    "        {\"role\": \"user\", \"content\": prompt},\n",
    "    ]\n",
    "response = pipe(messages)\n",
    "query = response[0]['generated_text'][3]['content'].replace('```sql', '').replace('```', '').strip()\n",
    "print(query)\n",
    "try:\n",
    "    db.run(fr\"\"\"{query}\"\"\")\n",
    "except Exception as e:\n",
    "    messages = [\n",
    "            {\"role\": \"system\", \"content\": checker_prompt},\n",
    "            {\"role\": \"sqlagent\", \"content\": '\\n'.join([t.text for t in tables])},\n",
    "            {\"role\": \"user\", \"content\": e},\n",
    "        ]\n",
    "    response = pipe(messages)\n",
    "    query = response[0]['generated_text'][3]['content'].replace('```sql', '').replace('```', '').strip()\n",
    "    print(query)"
   ]
  },
  {
   "cell_type": "code",
   "execution_count": 18,
   "metadata": {},
   "outputs": [
    {
     "data": {
      "text/plain": [
       "'[(\\'Untitled\\', 27.72), (\\'Água de Beber\\', 13.86), (\\'Your Blue Room\\', 13.86), (\"You\\'ve Been A Long Time Coming\", 13.86), (\"You\\'re My Best Friend\", 13.86), (\\'X-9 2001\\', 13.86), (\\'Why Go\\', 13.86), (\\'Wanted Dread And Alive\\', 13.86), (\\'Vai Valer\\', 13.86), (\\'TriboTchan\\', 13.86)]'"
      ]
     },
     "execution_count": 18,
     "metadata": {},
     "output_type": "execute_result"
    }
   ],
   "source": [
    "db.run(fr\"\"\"{query}\"\"\")"
   ]
  },
  {
   "cell_type": "markdown",
   "metadata": {},
   "source": [
    "## Try Multi Agent Tools"
   ]
  },
  {
   "cell_type": "code",
   "execution_count": null,
   "metadata": {},
   "outputs": [
    {
     "name": "stderr",
     "output_type": "stream",
     "text": [
      "/Users/briceshun/Documents/Personal Projects/rag-test/.venv/lib/python3.9/site-packages/pydantic/_internal/_fields.py:132: UserWarning: Field \"model_id\" in DeployedModel has conflict with protected namespace \"model_\".\n",
      "\n",
      "You may be able to resolve this warning by setting `model_config['protected_namespaces'] = ()`.\n",
      "  warnings.warn(\n",
      "/Users/briceshun/Documents/Personal Projects/rag-test/.venv/lib/python3.9/site-packages/pydantic/_internal/_fields.py:132: UserWarning: Field \"model_name\" in HuggingFaceLLM has conflict with protected namespace \"model_\".\n",
      "\n",
      "You may be able to resolve this warning by setting `model_config['protected_namespaces'] = ()`.\n",
      "  warnings.warn(\n",
      "/Users/briceshun/Documents/Personal Projects/rag-test/.venv/lib/python3.9/site-packages/pydantic/_internal/_fields.py:132: UserWarning: Field \"model_kwargs\" in HuggingFaceLLM has conflict with protected namespace \"model_\".\n",
      "\n",
      "You may be able to resolve this warning by setting `model_config['protected_namespaces'] = ()`.\n",
      "  warnings.warn(\n",
      "/Users/briceshun/Documents/Personal Projects/rag-test/.venv/lib/python3.9/site-packages/pydantic/_internal/_fields.py:132: UserWarning: Field \"model_name\" in HuggingFaceInferenceAPI has conflict with protected namespace \"model_\".\n",
      "\n",
      "You may be able to resolve this warning by setting `model_config['protected_namespaces'] = ()`.\n",
      "  warnings.warn(\n",
      "/Users/briceshun/Documents/Personal Projects/rag-test/.venv/lib/python3.9/site-packages/pydantic/_internal/_fields.py:132: UserWarning: Field \"model_name\" in TextGenerationInference has conflict with protected namespace \"model_\".\n",
      "\n",
      "You may be able to resolve this warning by setting `model_config['protected_namespaces'] = ()`.\n",
      "  warnings.warn(\n"
     ]
    }
   ],
   "source": [
    "from transformers import AutoTokenizer, AutoModelForCausalLM\n",
    "from llama_index.llms.huggingface import HuggingFaceLLM\n",
    "from llama_index.core import Settings, PromptTemplate\n",
    "from llama_index.core.tools import FunctionTool\n",
    "from llama_index.core.agent import ReActAgent\n",
    "import torch\n",
    "\n",
    "from agents import prompts\n",
    "react_system_prompt = prompts.react_system_prompt\n",
    "react_context = prompts.react_context"
   ]
  },
  {
   "cell_type": "code",
   "execution_count": 6,
   "metadata": {},
   "outputs": [
    {
     "data": {
      "application/vnd.jupyter.widget-view+json": {
       "model_id": "94102ddb224a4f099e393d4c82bbcc97",
       "version_major": 2,
       "version_minor": 0
      },
      "text/plain": [
       "Loading checkpoint shards:   0%|          | 0/3 [00:00<?, ?it/s]"
      ]
     },
     "metadata": {},
     "output_type": "display_data"
    }
   ],
   "source": [
    "tokenizer = AutoTokenizer.from_pretrained(f\"agents/Llama-3_2-3B-Instruct/tokenizer\", torch_dtype=torch.float16)\n",
    "model = AutoModelForCausalLM.from_pretrained(f\"agents/Llama-3_2-3B-Instruct/model\", torch_dtype=torch.float16)"
   ]
  },
  {
   "cell_type": "code",
   "execution_count": 7,
   "metadata": {},
   "outputs": [
    {
     "name": "stderr",
     "output_type": "stream",
     "text": [
      "The model `agents/Llama-3_2-3B-Instruct/model` and tokenizer `agents/Llama-3_2-3B-Instruct/tokenizer` are different, please ensure that they are compatible.\n"
     ]
    }
   ],
   "source": [
    "Settings.llm = HuggingFaceLLM(model=model, tokenizer=tokenizer)"
   ]
  },
  {
   "cell_type": "code",
   "execution_count": null,
   "metadata": {},
   "outputs": [
    {
     "name": "stderr",
     "output_type": "stream",
     "text": [
      "/Users/briceshun/Documents/Personal Projects/rag-test/.venv/lib/python3.9/site-packages/pydantic/_internal/_fields.py:172: UserWarning: Field name \"schema\" in \"generate_query\" shadows an attribute in parent \"BaseModel\"\n",
      "  warnings.warn(\n"
     ]
    }
   ],
   "source": [
    "# function tools\n",
    "def retrieve_schema(prompt: str) -> str:\n",
    "    \"\"\"\n",
    "    Retrieve relevant schema information\n",
    "    input: prompt (str) - user prompt\n",
    "    output: tables (str) - schema information\n",
    "    \"\"\"\n",
    "    tables = db_engine.retrieve(prompt)\n",
    "    return '\\n'.join([t.text for t in tables])\n",
    "\n",
    "tool_retrieve_schema = FunctionTool.from_defaults(fn=retrieve_schema)\n",
    "\n",
    "def query_run(query: str) -> str:\n",
    "    \"\"\"\n",
    "    Run SQL query\n",
    "    input: query (str) - SQL query\n",
    "    output: output (str) - query output\n",
    "    \"\"\"\n",
    "    try:\n",
    "        output = db.run(fr\"\"\"{query}\"\"\")\n",
    "        return output\n",
    "    except Exception as e:\n",
    "        return e\n",
    "\n",
    "tool_query_run = FunctionTool.from_defaults(fn=query_run)"
   ]
  },
  {
   "cell_type": "code",
   "execution_count": null,
   "metadata": {},
   "outputs": [
    {
     "name": "stderr",
     "output_type": "stream",
     "text": [
      "Setting `pad_token_id` to `eos_token_id`:None for open-end generation.\n"
     ]
    },
    {
     "name": "stdout",
     "output_type": "stream",
     "text": [
      "> Running step da6435da-0400-4ad2-b836-d52af1753213. Step input: Which album has the most tracks?\n",
      "\u001b[1;3;38;5;200mThought: The user is asking about music albums and I need to use a tool to help me answer the question.\n",
      "Action: retrieve_schema\n",
      "Action Input: {'prompt': 'What is the album with the most tracks?'}\n",
      "\u001b[0m"
     ]
    },
    {
     "name": "stderr",
     "output_type": "stream",
     "text": [
      "Setting `pad_token_id` to `eos_token_id`:None for open-end generation.\n"
     ]
    },
    {
     "name": "stdout",
     "output_type": "stream",
     "text": [
      "\u001b[1;3;34mObservation: Table: Album\n",
      "\n",
      "Description: \n",
      "The Album table contains information about albums, including the album ID, title, and the ID of the artist who created it. The album ID uniquely identifies each album, and the artist ID establishes a foreign key relationship with the Artist table. The title is limited to 160 characters.\n",
      "\n",
      "Use Case: \n",
      "The main use case for this table is to store and manage information about albums, including their titles, artist IDs, and album IDs, allowing for efficient querying and retrieval of album data in conjunction with artist data.\n",
      "\n",
      "Schema: \n",
      "CREATE TABLE [Album]\n",
      "(\n",
      "    [AlbumId] INTEGER  NOT NULL,\n",
      "    [Title] NVARCHAR(160)  NOT NULL,\n",
      "    [ArtistId] INTEGER  NOT NULL,\n",
      "    CONSTRAINT [PK_Album] PRIMARY KEY  ([AlbumId]),\n",
      "    FOREIGN KEY ([ArtistId]) REFERENCES [Artist] ([ArtistId]) \n",
      "\t\tON DELETE NO ACTION ON UPDATE NO ACTION\n",
      ")\n",
      "\n",
      "Sample:\n",
      "{'AlbumId': 1, 'Title': 'For Those About To Rock We Salute You', 'ArtistId': 1}\n",
      "{'AlbumId': 2, 'Title': 'Balls to the Wall', 'ArtistId': 2}\n",
      "{'AlbumId': 3, 'Title': 'Restless and Wild', 'ArtistId': 2}\n",
      "{'AlbumId': 4, 'Title': 'Let There Be Rock', 'ArtistId': 1}\n",
      "{'AlbumId': 5, 'Title': 'Big Ones', 'ArtistId': 3}\n",
      "Table: Track\n",
      "\n",
      "Description: \n",
      "The Track table stores information about individual music tracks, including track ID, name, album ID, media type ID, genre ID, composer, milliseconds, bytes, and unit price. The table has foreign key constraints to maintain relationships with the Album and Genre tables.\n",
      "\n",
      "Use Case: \n",
      "The main use case for this table is to manage and store information about individual music tracks, enabling the retrieval and manipulation of track data in a database.\n",
      "\n",
      "Schema: \n",
      "CREATE TABLE [Track]\n",
      "(\n",
      "    [TrackId] INTEGER  NOT NULL,\n",
      "    [Name] NVARCHAR(200)  NOT NULL,\n",
      "    [AlbumId] INTEGER,\n",
      "    [MediaTypeId] INTEGER  NOT NULL,\n",
      "    [GenreId] INTEGER,\n",
      "    [Composer] NVARCHAR(220),\n",
      "    [Milliseconds] INTEGER  NOT NULL,\n",
      "    [Bytes] INTEGER,\n",
      "    [UnitPrice] NUMERIC(10,2)  NOT NULL,\n",
      "    CONSTRAINT [PK_Track] PRIMARY KEY  ([TrackId]),\n",
      "    FOREIGN KEY ([AlbumId]) REFERENCES [Album] ([AlbumId]) \n",
      "\t\tON DELETE NO ACTION ON UPDATE NO ACTION,\n",
      "    FOREIGN KEY ([GenreId]) REFERENCES [Genre] ([GenreId]) \n",
      "\t\tON DELETE NO ACTION ON UPDATE NO ACTION,\n",
      "    FOREIGN KEY ([MediaTypeId]) REFERENCES [MediaType] ([MediaTypeId]) \n",
      "\t\tON DELETE NO ACTION ON UPDATE NO ACTION\n",
      ")\n",
      "\n",
      "Sample:\n",
      "{'TrackId': 1, 'Name': 'For Those About To Rock (We Salute You)', 'AlbumId': 1, 'MediaTypeId': 1, 'GenreId': 1, 'Composer': 'Angus Young, Malcolm Young, Brian Johnson', 'Milliseconds': 343719, 'Bytes': 11170334, 'UnitPrice': 0.99}\n",
      "{'TrackId': 2, 'Name': 'Balls to the Wall', 'AlbumId': 2, 'MediaTypeId': 2, 'GenreId': 1, 'Composer': 'U. Dirkschneider, W. Hoffmann, H. Frank, P. Baltes, S. Kaufmann, G. Hoffmann', 'Milliseconds': 342562, 'Bytes': 5510424, 'UnitPrice': 0.99}\n",
      "{'TrackId': 3, 'Name': 'Fast As a Shark', 'AlbumId': 3, 'MediaTypeId': 2, 'GenreId': 1, 'Composer': 'F. Baltes, S. Kaufman, U. Dirkscneider & W. Hoffman', 'Milliseconds': 230619, 'Bytes': 3990994, 'UnitPrice': 0.99}\n",
      "{'TrackId': 4, 'Name': 'Restless and Wild', 'AlbumId': 3, 'MediaTypeId': 2, 'GenreId': 1, 'Composer': 'F. Baltes, R.A. Smith-Diesel, S. Kaufman, U. Dirkscneider & W. Hoffman', 'Milliseconds': 252051, 'Bytes': 4331779, 'UnitPrice': 0.99}\n",
      "{'TrackId': 5, 'Name': 'Princess of the Dawn', 'AlbumId': 3, 'MediaTypeId': 2, 'GenreId': 1, 'Composer': 'Deaffy & R.A. Smith-Diesel', 'Milliseconds': 375418, 'Bytes': 6290521, 'UnitPrice': 0.99}\n",
      "Table: PlaylistTrack\n",
      "\n",
      "Description: \n",
      "The PlaylistTrack table stores the many-to-many relationship between playlists and tracks. It contains two columns: PlaylistId (the ID of the playlist) and TrackId (the ID of the track), both of which are integer data types. The table has a primary key constraint on both columns, ensuring a unique combination of playlist and track IDs. Foreign key constraints are also in place to link the playlist and track IDs to their respective tables in the database.\n",
      "\n",
      "Use Case: \n",
      "The main use case for this table is to manage playlist tracks, allowing users to add or remove tracks from playlists. It supports the creation of multiple playlists with multiple tracks each, and provides a mechanism for enforcing data integrity through foreign key constraints.\n",
      "\n",
      "Schema: \n",
      "CREATE TABLE [PlaylistTrack]\n",
      "(\n",
      "    [PlaylistId] INTEGER  NOT NULL,\n",
      "    [TrackId] INTEGER  NOT NULL,\n",
      "    CONSTRAINT [PK_PlaylistTrack] PRIMARY KEY  ([PlaylistId], [TrackId]),\n",
      "    FOREIGN KEY ([PlaylistId]) REFERENCES [Playlist] ([PlaylistId]) \n",
      "\t\tON DELETE NO ACTION ON UPDATE NO ACTION,\n",
      "    FOREIGN KEY ([TrackId]) REFERENCES [Track] ([TrackId]) \n",
      "\t\tON DELETE NO ACTION ON UPDATE NO ACTION\n",
      ")\n",
      "\n",
      "Sample:\n",
      "{'PlaylistId': 1, 'TrackId': 3402}\n",
      "{'PlaylistId': 1, 'TrackId': 3389}\n",
      "{'PlaylistId': 1, 'TrackId': 3390}\n",
      "{'PlaylistId': 1, 'TrackId': 3391}\n",
      "{'PlaylistId': 1, 'TrackId': 3392}\n",
      "Table: Genre\n",
      "\n",
      "Description: \n",
      "The Genre table stores information about different music genres. It contains two columns: GenreId, which is a unique identifier for each genre, and Name, which represents the name of the genre. The data types for these columns are integer and NVARCHAR(120), respectively.\n",
      "\n",
      "Use Case: \n",
      "This table is primarily used to store and manage a list of unique music genres, allowing for efficient querying and retrieval of genre information, such as filtering, sorting, and joining with other tables that reference this genre table.\n",
      "\n",
      "Schema: \n",
      "CREATE TABLE [Genre]\n",
      "(\n",
      "    [GenreId] INTEGER  NOT NULL,\n",
      "    [Name] NVARCHAR(120),\n",
      "    CONSTRAINT [PK_Genre] PRIMARY KEY  ([GenreId])\n",
      ")\n",
      "\n",
      "Sample:\n",
      "{'GenreId': 1, 'Name': 'Rock'}\n",
      "{'GenreId': 2, 'Name': 'Jazz'}\n",
      "{'GenreId': 3, 'Name': 'Metal'}\n",
      "{'GenreId': 4, 'Name': 'Alternative & Punk'}\n",
      "{'GenreId': 5, 'Name': 'Rock And Roll'}\n",
      "Table: Playlist\n",
      "\n",
      "Description: \n",
      "The Playlist table stores information about different music playlists, including a unique identifier (PlaylistId) and the playlist name. It has one primary key (PlaylistId) and one column (Name) to store the playlist name. The Name column has a maximum length of 120 characters.\n",
      "\n",
      "Use Case: \n",
      "The main use case for this table is to manage and store user-created playlists, allowing users to easily create, edit, and delete playlists, and associate them with their respective music content.\n",
      "\n",
      "Schema: \n",
      "CREATE TABLE [Playlist]\n",
      "(\n",
      "    [PlaylistId] INTEGER  NOT NULL,\n",
      "    [Name] NVARCHAR(120),\n",
      "    CONSTRAINT [PK_Playlist] PRIMARY KEY  ([PlaylistId])\n",
      ")\n",
      "\n",
      "Sample:\n",
      "{'PlaylistId': 1, 'Name': 'Music'}\n",
      "{'PlaylistId': 2, 'Name': 'Movies'}\n",
      "{'PlaylistId': 3, 'Name': 'TV Shows'}\n",
      "{'PlaylistId': 4, 'Name': 'Audiobooks'}\n",
      "{'PlaylistId': 5, 'Name': '90’s Music'}\n",
      "\u001b[0m> Running step 7050df29-7c0b-4cec-ac5f-c23b849fb088. Step input: None\n"
     ]
    },
    {
     "name": "stderr",
     "output_type": "stream",
     "text": [
      "Setting `pad_token_id` to `eos_token_id`:None for open-end generation.\n"
     ]
    },
    {
     "name": "stdout",
     "output_type": "stream",
     "text": [
      "\u001b[1;3;38;5;200mThought: I have retrieved the schema information for the Album, Track, PlaylistTrack, Genre, and Playlist tables.\n",
      "Action: query_run\n",
      "Action Input: {'query': 'SELECT COUNT(*) FROM Track GROUP BY AlbumId ORDER BY COUNT(*) DESC LIMIT 1'}\n",
      "\u001b[0m\u001b[1;3;34mObservation: [(57,)]\n",
      "\u001b[0m> Running step f13743b3-7ea8-43fd-8c53-06ca8910fd6a. Step input: None\n",
      "\u001b[1;3;38;5;200mThought: The query returned 57 as the number of tracks in the album with the most tracks. I do not need to use any more tools to answer the question.\n",
      "Answer: The album with the most tracks is the one with 57 tracks.\n",
      "\u001b[0m"
     ]
    }
   ],
   "source": [
    "agent = ReActAgent.from_tools(\n",
    "    [tool_retrieve_schema, tool_query_run], \n",
    "    context = react_context,\n",
    "    verbose=True\n",
    "    )\n",
    "\n",
    "agent.update_prompts({\"agent_worker:system_prompt\": PromptTemplate(react_system_prompt)})\n",
    "\n",
    "response = agent.chat(\"Which album has the most tracks?\")"
   ]
  }
 ],
 "metadata": {
  "kernelspec": {
   "display_name": ".venv",
   "language": "python",
   "name": "python3"
  },
  "language_info": {
   "codemirror_mode": {
    "name": "ipython",
    "version": 3
   },
   "file_extension": ".py",
   "mimetype": "text/x-python",
   "name": "python",
   "nbconvert_exporter": "python",
   "pygments_lexer": "ipython3",
   "version": "3.9.9"
  }
 },
 "nbformat": 4,
 "nbformat_minor": 2
}
